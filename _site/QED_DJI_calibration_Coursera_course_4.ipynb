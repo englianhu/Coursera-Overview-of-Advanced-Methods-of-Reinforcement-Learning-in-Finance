{
 "cells": [
  {
   "cell_type": "markdown",
   "metadata": {},
   "source": [
    "## Econometric estimation of an IRL-based market portfolio model. Part II: QED\n",
    "\n",
    "Welcome to your final course project on Advanced Topic RL in Finance. In this project you will: \n",
    "\n",
    "- Explore and estimate an IRL-based model of market returns (the \"QED\" model) that is obtained by a generalization of   a model that you analyzed in the previous course\n",
    "- Respectively, you are expected to re-utilize parts of your previous code from the course project from Course 3: RL (but you can also start from scratch - the template provided here is nearly identical to the one offered to you in course 3)\n",
    "- Investige the role of non-linearities in price dynamics\n",
    "- Investigate the role and impact of choices of different signals on model estimation and trading strategies\n",
    " \n",
    "\n",
    "**Instructions for project structure and grading principles :**\n",
    "\n",
    "- This is a project that will be graded based on a peer-to-peer review. The project consists of four parts. The maximum score for each part is 10, so that maximum score you can give your peers (and they can give you) is 40. The parts are as follows (more detailed instructions are in specific cells below):\n",
    "\n",
    "- **Part 1**: Estimate the model using the DJI portfolio of 30 stocks, first without signals, and then using simple signals such as simple moving averages constructed below (Max 10 point).\n",
    "\n",
    "- **Part 2**: Explore the implications of calibrated model parameters for default probabilities of stocks in your portfolio. Present your conclusions and observations. (Max 10 point).\n",
    "\n",
    "- **Part 3**: Experiment with other signals and investigate the impact on model calibration obtained with alternative signals. Present your conclusions and observations. (Max 10 points).\n",
    "\n",
    "- **Part 4** : Show me something else. This part is optional. Come up with your own idea of an interesting analysis.\n",
    "For example, you can repeat your analysis for the S&P portfolio.\n",
    "Or maybe you can build a strategy using an optimal market-implied policy estimated from this model, and compare it with PCA and absorption ratio strategies that we built in Course 2. Or anything else.  (Max 10 points).\n",
    "\n",
    "**Instructions for formatting your notebook and packages use can use **\n",
    "\n",
    "- Use one or more cells of the notebook for each section of the project. Each section is marked by a header cell below. Insert your cells between them without changing the sequence. \n",
    "\n",
    "- Think of an optimal presentation of your results and conclusions. Think of how hard or easy it will be for your fellow students to follow your logic and presentation. When you are grading others, you can add or subtract point for the quality of presentation.\n",
    "\n",
    "- You will be using Python 3 in this project. Using TensorFlow is encouraged but is not strictly necessary, you can use optimization algorithms available in scipy or scikit-learn packages. If you use any non-standard packages, you should state all neccessary additional imports (or instructions how to install any additional modules you use in a top cell of your notebook. If you create a new portfolio for parts 3 and 4 in the project, make your code for creating your dataset replicable as well, so that your grader can reproduce your code locally on his/her machine.   \n",
    "\n",
    "- Try to write a clean code that can be followed by your peer reviewer. When you are the reviewer, you can add or subtract point for the quality of code. \n",
    "\n",
    "\n",
    "**After completing this project you will:**\n",
    "- Get experience with building and estimation of your second IRL based model of market dynamics.\n",
    "- Develop intuition and understanding about the role of non-linearities in dynamics model. \n",
    "- Develop intuition on whether the same model could be calibrated to both equity and credit data.\n",
    "- Be able to implement trading strategies based on this method.\n",
    "\n",
    "Let's get started!"
   ]
  },
  {
   "cell_type": "markdown",
   "metadata": {},
   "source": [
    "## The \"Quantum Equlibrium-Disequlibrium\" (QED) IRL-based model of stock returns\n",
    "\n",
    "In Week 3 lectures of our course we presented the \"QED\" model\n",
    "$$\n",
    "d X_t = \\kappa X_t  \\left( \\frac{\\theta}{\\kappa} - X_t - \\frac{g}{\\kappa} X_t^2 \\right) dt +  X_t \\left( {\\bf w} {\\bf z}_t \\, dt + \\sigma d W_t \\right)\n",
    "$$\n",
    "\n",
    "In this project, you will explore calibration of this model to market data.\n",
    "As in the course project for course 3 you analyzed the same model in the limit $ g = 0 $, you would be able to re-utilize parts of your previous code in this project).\n"
   ]
  },
  {
   "cell_type": "code",
   "execution_count": 1,
   "metadata": {},
   "outputs": [
    {
     "name": "stderr",
     "output_type": "stream",
     "text": [
      "/usr/local/lib/python3.6/site-packages/h5py/__init__.py:36: FutureWarning: Conversion of the second argument of issubdtype from `float` to `np.floating` is deprecated. In future, it will be treated as `np.float64 == np.dtype(float).type`.\n",
      "  from ._conv import register_converters as _register_converters\n"
     ]
    }
   ],
   "source": [
    "import pandas as pd\n",
    "import numpy as np\n",
    "import tensorflow as tf\n",
    "\n",
    "import matplotlib.pyplot as plt\n",
    "from datetime import datetime"
   ]
  },
  {
   "cell_type": "code",
   "execution_count": 2,
   "metadata": {
    "collapsed": true
   },
   "outputs": [],
   "source": [
    "# read the data to a Dataframe\n",
    "df_cap = pd.read_csv('dja_cap.csv')"
   ]
  },
  {
   "cell_type": "code",
   "execution_count": 3,
   "metadata": {},
   "outputs": [
    {
     "data": {
      "text/html": [
       "<div>\n",
       "<style>\n",
       "    .dataframe thead tr:only-child th {\n",
       "        text-align: right;\n",
       "    }\n",
       "\n",
       "    .dataframe thead th {\n",
       "        text-align: left;\n",
       "    }\n",
       "\n",
       "    .dataframe tbody tr th {\n",
       "        vertical-align: top;\n",
       "    }\n",
       "</style>\n",
       "<table border=\"1\" class=\"dataframe\">\n",
       "  <thead>\n",
       "    <tr style=\"text-align: right;\">\n",
       "      <th></th>\n",
       "      <th>AAPL</th>\n",
       "      <th>AXP</th>\n",
       "      <th>BA</th>\n",
       "      <th>CAT</th>\n",
       "      <th>CSCO</th>\n",
       "      <th>CVX</th>\n",
       "      <th>DIS</th>\n",
       "      <th>DWDP</th>\n",
       "      <th>GE</th>\n",
       "      <th>GS</th>\n",
       "      <th>...</th>\n",
       "      <th>NKE</th>\n",
       "      <th>PFE</th>\n",
       "      <th>PG</th>\n",
       "      <th>TRV</th>\n",
       "      <th>UNH</th>\n",
       "      <th>UTX</th>\n",
       "      <th>V</th>\n",
       "      <th>VZ</th>\n",
       "      <th>WMT</th>\n",
       "      <th>XOM</th>\n",
       "    </tr>\n",
       "    <tr>\n",
       "      <th>date</th>\n",
       "      <th></th>\n",
       "      <th></th>\n",
       "      <th></th>\n",
       "      <th></th>\n",
       "      <th></th>\n",
       "      <th></th>\n",
       "      <th></th>\n",
       "      <th></th>\n",
       "      <th></th>\n",
       "      <th></th>\n",
       "      <th></th>\n",
       "      <th></th>\n",
       "      <th></th>\n",
       "      <th></th>\n",
       "      <th></th>\n",
       "      <th></th>\n",
       "      <th></th>\n",
       "      <th></th>\n",
       "      <th></th>\n",
       "      <th></th>\n",
       "      <th></th>\n",
       "    </tr>\n",
       "  </thead>\n",
       "  <tbody>\n",
       "    <tr>\n",
       "      <th>2010-01-04</th>\n",
       "      <td>1.937537e+11</td>\n",
       "      <td>48660795480</td>\n",
       "      <td>4.082033e+10</td>\n",
       "      <td>36460724400</td>\n",
       "      <td>1.420313e+11</td>\n",
       "      <td>1.586155e+11</td>\n",
       "      <td>6.168697e+10</td>\n",
       "      <td>3.337392e+10</td>\n",
       "      <td>1.645038e+11</td>\n",
       "      <td>8.897731e+10</td>\n",
       "      <td>...</td>\n",
       "      <td>25598248500</td>\n",
       "      <td>1.527563e+11</td>\n",
       "      <td>178576382080</td>\n",
       "      <td>27214839130</td>\n",
       "      <td>36638396010</td>\n",
       "      <td>67155918570</td>\n",
       "      <td>41337043020</td>\n",
       "      <td>94536765440</td>\n",
       "      <td>206625627560</td>\n",
       "      <td>3.272107e+11</td>\n",
       "    </tr>\n",
       "    <tr>\n",
       "      <th>2010-01-05</th>\n",
       "      <td>1.940887e+11</td>\n",
       "      <td>48553770270</td>\n",
       "      <td>4.215727e+10</td>\n",
       "      <td>36896634000</td>\n",
       "      <td>1.413985e+11</td>\n",
       "      <td>1.597391e+11</td>\n",
       "      <td>6.153308e+10</td>\n",
       "      <td>3.486077e+10</td>\n",
       "      <td>1.653556e+11</td>\n",
       "      <td>9.055040e+10</td>\n",
       "      <td>...</td>\n",
       "      <td>25700093100</td>\n",
       "      <td>1.505775e+11</td>\n",
       "      <td>178634816760</td>\n",
       "      <td>26570118990</td>\n",
       "      <td>36580295160</td>\n",
       "      <td>66152751840</td>\n",
       "      <td>40863360090</td>\n",
       "      <td>94707204320</td>\n",
       "      <td>204568134680</td>\n",
       "      <td>3.284884e+11</td>\n",
       "    </tr>\n",
       "    <tr>\n",
       "      <th>2010-01-06</th>\n",
       "      <td>1.910015e+11</td>\n",
       "      <td>49338621810</td>\n",
       "      <td>4.343609e+10</td>\n",
       "      <td>37008725040</td>\n",
       "      <td>1.404781e+11</td>\n",
       "      <td>1.597591e+11</td>\n",
       "      <td>6.120609e+10</td>\n",
       "      <td>3.547838e+10</td>\n",
       "      <td>1.645038e+11</td>\n",
       "      <td>8.958393e+10</td>\n",
       "      <td>...</td>\n",
       "      <td>25543409100</td>\n",
       "      <td>1.500934e+11</td>\n",
       "      <td>177787513900</td>\n",
       "      <td>26193121620</td>\n",
       "      <td>36940520430</td>\n",
       "      <td>65805862410</td>\n",
       "      <td>40314638280</td>\n",
       "      <td>90673484160</td>\n",
       "      <td>204110914040</td>\n",
       "      <td>3.313275e+11</td>\n",
       "    </tr>\n",
       "    <tr>\n",
       "      <th>2010-01-07</th>\n",
       "      <td>1.906484e+11</td>\n",
       "      <td>49921314620</td>\n",
       "      <td>4.519446e+10</td>\n",
       "      <td>37158179760</td>\n",
       "      <td>1.411109e+11</td>\n",
       "      <td>1.591572e+11</td>\n",
       "      <td>6.122532e+10</td>\n",
       "      <td>3.550126e+10</td>\n",
       "      <td>1.730218e+11</td>\n",
       "      <td>9.133695e+10</td>\n",
       "      <td>...</td>\n",
       "      <td>26172872700</td>\n",
       "      <td>1.495285e+11</td>\n",
       "      <td>176823341680</td>\n",
       "      <td>26570118990</td>\n",
       "      <td>38358181170</td>\n",
       "      <td>66087124110</td>\n",
       "      <td>40689832680</td>\n",
       "      <td>90133761040</td>\n",
       "      <td>204225219200</td>\n",
       "      <td>3.302865e+11</td>\n",
       "    </tr>\n",
       "    <tr>\n",
       "      <th>2010-01-08</th>\n",
       "      <td>1.919159e+11</td>\n",
       "      <td>49885639550</td>\n",
       "      <td>4.475850e+10</td>\n",
       "      <td>37575407520</td>\n",
       "      <td>1.418587e+11</td>\n",
       "      <td>1.594381e+11</td>\n",
       "      <td>6.132150e+10</td>\n",
       "      <td>3.562706e+10</td>\n",
       "      <td>1.767484e+11</td>\n",
       "      <td>8.960963e+10</td>\n",
       "      <td>...</td>\n",
       "      <td>26121202640</td>\n",
       "      <td>1.507389e+11</td>\n",
       "      <td>176589602960</td>\n",
       "      <td>26531872880</td>\n",
       "      <td>37997955900</td>\n",
       "      <td>66218379570</td>\n",
       "      <td>40802391000</td>\n",
       "      <td>90190574000</td>\n",
       "      <td>203196472760</td>\n",
       "      <td>3.289615e+11</td>\n",
       "    </tr>\n",
       "  </tbody>\n",
       "</table>\n",
       "<p>5 rows × 30 columns</p>\n",
       "</div>"
      ],
      "text/plain": [
       "                    AAPL          AXP            BA          CAT  \\\n",
       "date                                                               \n",
       "2010-01-04  1.937537e+11  48660795480  4.082033e+10  36460724400   \n",
       "2010-01-05  1.940887e+11  48553770270  4.215727e+10  36896634000   \n",
       "2010-01-06  1.910015e+11  49338621810  4.343609e+10  37008725040   \n",
       "2010-01-07  1.906484e+11  49921314620  4.519446e+10  37158179760   \n",
       "2010-01-08  1.919159e+11  49885639550  4.475850e+10  37575407520   \n",
       "\n",
       "                    CSCO           CVX           DIS          DWDP  \\\n",
       "date                                                                 \n",
       "2010-01-04  1.420313e+11  1.586155e+11  6.168697e+10  3.337392e+10   \n",
       "2010-01-05  1.413985e+11  1.597391e+11  6.153308e+10  3.486077e+10   \n",
       "2010-01-06  1.404781e+11  1.597591e+11  6.120609e+10  3.547838e+10   \n",
       "2010-01-07  1.411109e+11  1.591572e+11  6.122532e+10  3.550126e+10   \n",
       "2010-01-08  1.418587e+11  1.594381e+11  6.132150e+10  3.562706e+10   \n",
       "\n",
       "                      GE            GS      ...               NKE  \\\n",
       "date                                        ...                     \n",
       "2010-01-04  1.645038e+11  8.897731e+10      ...       25598248500   \n",
       "2010-01-05  1.653556e+11  9.055040e+10      ...       25700093100   \n",
       "2010-01-06  1.645038e+11  8.958393e+10      ...       25543409100   \n",
       "2010-01-07  1.730218e+11  9.133695e+10      ...       26172872700   \n",
       "2010-01-08  1.767484e+11  8.960963e+10      ...       26121202640   \n",
       "\n",
       "                     PFE            PG          TRV          UNH          UTX  \\\n",
       "date                                                                            \n",
       "2010-01-04  1.527563e+11  178576382080  27214839130  36638396010  67155918570   \n",
       "2010-01-05  1.505775e+11  178634816760  26570118990  36580295160  66152751840   \n",
       "2010-01-06  1.500934e+11  177787513900  26193121620  36940520430  65805862410   \n",
       "2010-01-07  1.495285e+11  176823341680  26570118990  38358181170  66087124110   \n",
       "2010-01-08  1.507389e+11  176589602960  26531872880  37997955900  66218379570   \n",
       "\n",
       "                      V           VZ           WMT           XOM  \n",
       "date                                                              \n",
       "2010-01-04  41337043020  94536765440  206625627560  3.272107e+11  \n",
       "2010-01-05  40863360090  94707204320  204568134680  3.284884e+11  \n",
       "2010-01-06  40314638280  90673484160  204110914040  3.313275e+11  \n",
       "2010-01-07  40689832680  90133761040  204225219200  3.302865e+11  \n",
       "2010-01-08  40802391000  90190574000  203196472760  3.289615e+11  \n",
       "\n",
       "[5 rows x 30 columns]"
      ]
     },
     "execution_count": 3,
     "metadata": {},
     "output_type": "execute_result"
    }
   ],
   "source": [
    "# add dates\n",
    "dates = pd.bdate_range(start='2010-01-04', end=None, periods=df_cap.shape[0], freq='B')\n",
    "df_cap['date'] = dates\n",
    "\n",
    "df_cap.set_index('date',inplace=True)\n",
    "df_cap.head()\n"
   ]
  },
  {
   "cell_type": "markdown",
   "metadata": {},
   "source": [
    "## Let us build some signals \n",
    "\n",
    "Here we provide a \"warm start\" by computing two simple moving average signals that you can use as benchmark in your analysis."
   ]
  },
  {
   "cell_type": "markdown",
   "metadata": {},
   "source": [
    "### Generate moving averages"
   ]
  },
  {
   "cell_type": "code",
   "execution_count": 4,
   "metadata": {
    "collapsed": true
   },
   "outputs": [],
   "source": [
    "# Calculating the short-window (10 days) simple moving average\n",
    "\n",
    "window_1 = 10\n",
    "\n",
    "short_rolling = df_cap.rolling(window=window_1).mean()\n",
    "# short_rolling.head(20)"
   ]
  },
  {
   "cell_type": "code",
   "execution_count": 5,
   "metadata": {
    "collapsed": true
   },
   "outputs": [],
   "source": [
    "# Calculating the long-window (30 days) simple moving average\n",
    "\n",
    "window_2 = 30\n",
    "long_rolling = df_cap.rolling(window=window_2).mean()\n",
    "# long_rolling.tail()"
   ]
  },
  {
   "cell_type": "markdown",
   "metadata": {},
   "source": [
    "### Plot three years of AAPL stock:"
   ]
  },
  {
   "cell_type": "code",
   "execution_count": 6,
   "metadata": {},
   "outputs": [
    {
     "data": {
      "image/png": "[encoded data removed]",
      "text/plain": [
       "<matplotlib.figure.Figure at 0x105476828>"
      ]
     },
     "metadata": {},
     "output_type": "display_data"
    }
   ],
   "source": [
    "ticker = 'AAPL'\n",
    "start_date = '2015-01-01'\n",
    "end_date = '2017-12-31'\n",
    "\n",
    "fig = plt.figure(figsize=(10,6))\n",
    "ax = fig.add_subplot(1,1,1)\n",
    "\n",
    "ax.plot(df_cap.loc[start_date:end_date, :].index, df_cap.loc[start_date:end_date, 'AAPL'], label='Cap')\n",
    "ax.plot(long_rolling.loc[start_date:end_date, :].index, long_rolling.loc[start_date:end_date, 'AAPL'], \n",
    "          label = '%d-days SMA' % window_2)\n",
    "ax.plot(short_rolling.loc[start_date:end_date, :].index, short_rolling.loc[start_date:end_date, 'AAPL'], \n",
    "         label = '%d-days SMA' % window_1)\n",
    "\n",
    "ax.legend(loc='best')\n",
    "ax.set_ylabel('Cap in $')\n",
    "\n",
    "plt.show()"
   ]
  },
  {
   "cell_type": "markdown",
   "metadata": {},
   "source": [
    "## Part 1: Model calibration with or without moving average signals (Max 10 points)"
   ]
  },
  {
   "cell_type": "markdown",
   "metadata": {},
   "source": [
    "To calibrate the model, it is convenient to use the log-prices instead of prices. Diffusion in the log-space \n",
    "$ y = \\log x $ is given by the following Langevin equation:\n",
    "\n",
    "$$\n",
    "d y_t = - \\frac{ \\partial V(y)}{\\partial y} dt + \\sigma dW_t , \\; \\; \\;  V(y)  \\equiv - \\left( \\theta - \\frac{\\sigma^2}{2} + {\\bf w} {\\bf z}_t \\right) y  + \\kappa e^y + \\frac{1}{2} g e^{2y}\n",
    "$$\n",
    "\n",
    "where $ W_t $ is a standard Brownian motion.\n",
    "In terms of variables $ y = \\log x $, the negative log-likelihood of data is therefore\n",
    "\n",
    "$$\n",
    "LL_M (\\Theta) = - \\log \\prod_{t=0}^{T-1} \n",
    "\\frac{1}{ \\sqrt{ 2 \\pi  \\sigma^2}  } \n",
    "\\exp \\left\\{  - \\frac{1}{2 \\sigma^2} \\left(   \\frac{ y_{t+ \\Delta t} -   y_{t}}{ \\Delta t} +  \\frac{ \\partial V(y)}{\\partial y}   \n",
    "\\right)^2\n",
    "\\right\\} , \n",
    "$$ \n",
    "\n",
    "where $ {\\bf y}_t  = \\log x_t $  now stands for observed values of log-cap. Note that because the model is Markov, the product over $ t = 0, \\ldots, T-1 $ does not \n",
    "necessarily mean a product of transitions along the same trajectory. The negative log-likelihood should be minimized to estimate parameters $ \n",
    "\\theta $, $ \\sigma $, $ \\kappa $, $ g $ and  $ {\\bf w} $. You can try to estimate the model first without signals, then with signals.\n"
   ]
  },
  {
   "cell_type": "code",
   "execution_count": 7,
   "metadata": {
    "collapsed": true
   },
   "outputs": [],
   "source": [
    "# Put the rest of you code and analysis for Part I here "
   ]
  },
  {
   "cell_type": "markdown",
   "metadata": {},
   "source": [
    "## Part 2: Analysis of default rates  (Max 10 point)\n",
    "\n",
    "For a particle in a potential $ V(y) $ with a metastable minimum $ y = a $ and a barrier with a peak located at $ y = b $, the famous Kramers' escape formula gives the following expression for the escape rate $ r $ (see e.g. the book by van Kampen):\n",
    "\n",
    "$$ \n",
    "r = \\frac{\\sqrt{ V''(a) \\left| V''(b) \\right| }}{2 \\pi} \\exp \\left[ - \\frac{2}{\\sigma^2} (V(b) - V(a) ) \\right]\n",
    "$$\n",
    "\n",
    "Here $ V''(a) $ and $ V''(b) $ stand for the second derivatives of the potential $ V(y) $ at the minimum and the maximum, respectively. This formula applies as long as the barrier height $ \\Delta E \\equiv  (V(b) - V(a) \\gg \\frac{\\sigma^2}{2} $. \n",
    "\n",
    "Apply the Kramers formula to the QED potential and parameters that you found in your calibration. What range of values of $ r $ do you obtain? Do these values make sense to you? Can you think how you could use the Kramers relation as a way to regularize your MLE calibration?\n"
   ]
  },
  {
   "cell_type": "code",
   "execution_count": 8,
   "metadata": {
    "collapsed": true
   },
   "outputs": [],
   "source": [
    "# Put the rest of your code and analysis for Part 2 here."
   ]
  },
  {
   "cell_type": "markdown",
   "metadata": {},
   "source": [
    "## Part 3: Propose and analyse your own signals  (Max 10 points)\n",
    "\n",
    "In this part, you will experiment with other signals. Propose a signal and explain why it is interesting to \n",
    "include this signal in the portfolio analysis. Then add your favorite signal or signals to the previous benchmarck signals (or alternatively you can replace them), and repeat the analysis of model calibration. State your conclusions.\n"
   ]
  },
  {
   "cell_type": "code",
   "execution_count": 9,
   "metadata": {
    "collapsed": true
   },
   "outputs": [],
   "source": [
    "# Put the rest of your code and analysis for Part 3 here."
   ]
  },
  {
   "cell_type": "markdown",
   "metadata": {},
   "source": [
    "## Part 4 (Optional): Show me something else (Max 10 points).\n",
    "\n",
    "Here you can develop any additional analysis of the model that you may find interesting (One possible suggestion is \n",
    "presented above, but you should feel free to choose your own topic). Present your case and finding/conclusions.\n"
   ]
  },
  {
   "cell_type": "code",
   "execution_count": 10,
   "metadata": {
    "collapsed": true
   },
   "outputs": [],
   "source": [
    "# Put the rest of your code and analysis for Part 3 here."
   ]
  },
  {
   "cell_type": "code",
   "execution_count": null,
   "metadata": {
    "collapsed": true
   },
   "outputs": [],
   "source": []
  }
 ],
 "metadata": {
  "kernelspec": {
   "display_name": "Python 3",
   "language": "python",
   "name": "python3"
  },
  "language_info": {
   "codemirror_mode": {
    "name": "ipython",
    "version": 3
   },
   "file_extension": ".py",
   "mimetype": "text/x-python",
   "name": "python",
   "nbconvert_exporter": "python",
   "pygments_lexer": "ipython3",
   "version": "3.6.2"
  }
 },
 "nbformat": 4,
 "nbformat_minor": 2
}
